{
 "cells": [
  {
   "cell_type": "markdown",
   "metadata": {},
   "source": [
    "## Intro to Computer Programming - Homework 4 - Fall 2024 - Wilmington College  \n",
    "**Due Date: September 11, 2024, 23:59**\n",
    "\n",
    "Dear Students,\n",
    "\n",
    "Welcome to Homework 4 for the Intro to Computer Programming course.\n",
    "\n",
    "**Submission Instructions:**\n",
    "1. **Primary Submission (GitHub Classroom):**  \n",
    "   You are encouraged to submit your homework through GitHub Classroom. This will allow you to collaborate on coding, version control, and peer reviews more efficiently. The repository for this assignment can be accessed through the provided GitHub Classroom link. Please make sure to commit and push your changes before the deadline.\n",
    "\n",
    "2. **Alternative Submission (Blackboard):**  \n",
    "   If you prefer not to use GitHub Classroom, you can submit your completed assignment on Blackboard.\n",
    "\n",
    "3. **Backup Submission (Email):**  \n",
    "   In case you encounter any technical issues with either platform, you may submit your work via email as a last resort.\n",
    "\n",
    "Remember, timely completion of assignments is crucial for your understanding of the course material. If you face any challenges, don't hesitate to reach out."
   ]
  },
  {
   "cell_type": "markdown",
   "metadata": {},
   "source": [
    "### Exercise 1: Reading Numbers in a while loop\n",
    "\n",
    "Write a program that continuously prompts the user to enter a number until they input the number 0. The program should keep accepting inputs until this condition is met. Once the user enters 0, the program should print \"Loop terminated: 0 has been entered.\"\n",
    "\n",
    "Test your code with various numbers to verify that the loop continues to run until 0 is entered."
   ]
  },
  {
   "cell_type": "code",
   "execution_count": 10,
   "metadata": {},
   "outputs": [
    {
     "name": "stdout",
     "output_type": "stream",
     "text": [
      "Loop terminated: 0 has been entered.\n"
     ]
    }
   ],
   "source": [
    "# -------------------- Solution ----------------------- #\n",
    "# Write your code here:\n",
    "\n",
    "def main():\n",
    "    while True:\n",
    "        try:\n",
    "            number = int(input(\"Enter a number (0 to terminate): \"))\n",
    "            if number == 0:\n",
    "                print(\"Loop terminated: 0 has been entered.\")\n",
    "                break\n",
    "        except ValueError:\n",
    "            print(\"Please enter a valid integer.\")\n",
    "\n",
    "if __name__ == \"__main__\":\n",
    "    main()"
   ]
  },
  {
   "cell_type": "markdown",
   "metadata": {},
   "source": [
    "### Exercise 2: Product of Even Numbers\n",
    "\n",
    "Write a program that reads two integer values, x1 and x2. Use a while loop to calculate the product of all even numbers between x1 and x2 (inclusive of x1 and x2). Remember, a number is even if number % 2 == 0. If there are no even numbers in the range, the product should be 1."
   ]
  },
  {
   "cell_type": "code",
   "execution_count": 13,
   "metadata": {},
   "outputs": [
    {
     "name": "stdout",
     "output_type": "stream",
     "text": [
      "The product of all even numbers between 1 and 9 is: 384\n"
     ]
    }
   ],
   "source": [
    "# -------------------- Solution ----------------------- #\n",
    "# Write your code here:\n",
    "\n",
    "def main():\n",
    "    # Read two integer values from the user\n",
    "    x1 = int(input(\"Enter the first integer (x1): \"))\n",
    "    x2 = int(input(\"Enter the second integer (x2): \"))\n",
    "    \n",
    "    # Ensure x1 is less than or equal to x2\n",
    "    if x1 > x2:\n",
    "        x1, x2 = x2, x1  # Swap values if necessary\n",
    "    \n",
    "    product = 1\n",
    "    found_even = False\n",
    "    \n",
    "    # Use a while loop to iterate through the range\n",
    "    current = x1\n",
    "    while current <= x2:\n",
    "        if current % 2 == 0:  # Check if the number is even\n",
    "            product *= current\n",
    "            found_even = True\n",
    "        current += 1  # Move to the next number\n",
    "\n",
    "    # If no even numbers were found, set product to 1\n",
    "    if not found_even:\n",
    "        product = 1\n",
    "    \n",
    "    print(f\"The product of all even numbers between {x1} and {x2} is: {product}\")\n",
    "\n",
    "if __name__ == \"__main__\":\n",
    "    main()"
   ]
  },
  {
   "cell_type": "markdown",
   "metadata": {},
   "source": [
    "### Exercise 3: Counting vowels\n",
    "\n",
    "Write a program using a for loop that takes in a string as input and counts the number of vowels (a, e, i, o, u) in the provided string, regardless of case. The program must print the number of vowels counted.\n",
    "\n",
    "**Example:**\n",
    "If the input is \"Hello World\", the program outputs 3."
   ]
  },
  {
   "cell_type": "code",
   "execution_count": 16,
   "metadata": {},
   "outputs": [
    {
     "name": "stdout",
     "output_type": "stream",
     "text": [
      "The number of vowels in the provided string is: 3\n"
     ]
    }
   ],
   "source": [
    "# -------------------- Solution ----------------------- #\n",
    "# Write your code here:\n",
    "\n",
    "def count_vowels(input_string):\n",
    "    vowels = \"aeiouAEIOU\"  # Define the vowels (both lowercase and uppercase)\n",
    "    count = 0  # Initialize a counter for the vowels\n",
    "    \n",
    "    # Use a for loop to iterate through each character in the input string\n",
    "    for char in input_string:\n",
    "        if char in vowels:  # Check if the character is a vowel\n",
    "            count += 1  # Increment the count if it is a vowel\n",
    "            \n",
    "    return count\n",
    "\n",
    "def main():\n",
    "    user_input = input(\"Enter a string: \")  # Take input from the user\n",
    "    vowel_count = count_vowels(user_input)  # Count the vowels\n",
    "    print(f\"The number of vowels in the provided string is: {vowel_count}\")\n",
    "\n",
    "if __name__ == \"__main__\":\n",
    "    main()"
   ]
  },
  {
   "cell_type": "markdown",
   "metadata": {},
   "source": [
    "### Exercise 4: equences\n",
    "\n",
    "Write a program that reads two integer values, `n1` and `n2`, with `n1 < n2`, and performs the following tasks:\n",
    "\n",
    "1. Prints all multiples of 3 between the two provided numbers (inclusive of both), in ascending order.\n",
    "2. Prints all multiples of 5 between the two provided numbers (exclusive of both), in descending order.\n",
    "\n",
    "**Input:**  \n",
    "`3 30`\n",
    "\n",
    "**Expected Output:**  \n",
    "```\n",
    "3 6 9 12 15 18 21 24 27 30\n",
    "25 20 15 10\n",
    "```"
   ]
  },
  {
   "cell_type": "code",
   "execution_count": 18,
   "metadata": {},
   "outputs": [
    {
     "name": "stdout",
     "output_type": "stream",
     "text": [
      "Multiples of 3:\n",
      "3 6 9 12 15 18 21 24 27 30 \n",
      "Multiples of 5:\n",
      "25 20 15 10 5 \n"
     ]
    }
   ],
   "source": [
    "# -------------------- Solution ----------------------- #\n",
    "# Write your code here:\n",
    "\n",
    "def main():\n",
    "    # Read two integer values from the user\n",
    "    n1 = int(input(\"Enter the first integer (n1): \"))\n",
    "    n2 = int(input(\"Enter the second integer (n2): \"))\n",
    "    \n",
    "    # Ensure n1 is less than n2\n",
    "    if n1 >= n2:\n",
    "        print(\"Please ensure that n1 is less than n2.\")\n",
    "        return\n",
    "\n",
    "    # Task 1: Print all multiples of 3 between n1 and n2 (inclusive)\n",
    "    print(\"Multiples of 3:\")\n",
    "    for num in range(n1, n2 + 1):\n",
    "        if num % 3 == 0:\n",
    "            print(num, end=' ')\n",
    "    print()  # For a new line after printing multiples of 3\n",
    "\n",
    "    # Task 2: Print all multiples of 5 between n1 and n2 (exclusive)\n",
    "    print(\"Multiples of 5:\")\n",
    "    for num in range(n2 - 1, n1, -1):\n",
    "        if num % 5 == 0:\n",
    "            print(num, end=' ')\n",
    "    print()  # For a new line after printing multiples of 5\n",
    "\n",
    "if __name__ == \"__main__\":\n",
    "    main()"
   ]
  },
  {
   "cell_type": "markdown",
   "metadata": {},
   "source": [
    "### Exercise 5: Printing a Reverse Triangle of Stars\n",
    " \n",
    "Write a program that prints the following output:\n",
    "\n",
    "```\n",
    "*********\n",
    " ********\n",
    "  ********\n",
    "   ********\n",
    "    ********\n",
    "     ********\n",
    "      ********\n",
    "       ********\n",
    "        ********\n",
    "```"
   ]
  },
  {
   "cell_type": "code",
   "execution_count": 19,
   "metadata": {},
   "outputs": [
    {
     "name": "stdout",
     "output_type": "stream",
     "text": [
      "******************\n",
      " ****************\n",
      "  **************\n",
      "   ************\n",
      "    **********\n",
      "     ********\n",
      "      ******\n",
      "       ****\n",
      "        **\n"
     ]
    }
   ],
   "source": [
    "# -------------------- Solution ----------------------- #\n",
    "# Write your code here:\n",
    "\n",
    "def main():\n",
    "    rows = 9  # Number of rows to print\n",
    "\n",
    "    for i in range(rows):\n",
    "        # Print leading spaces\n",
    "        print(' ' * i, end='')\n",
    "        # Print asterisks\n",
    "        print('*' * (rows * 2 - i * 2))\n",
    "\n",
    "if __name__ == \"__main__\":\n",
    "    main()"
   ]
  },
  {
   "cell_type": "markdown",
   "metadata": {},
   "source": [
    "### Exercise 6: Using the break Control Statement in a Loop\n",
    "Write a program that reads a string value and prints \"Found\" if the string contains the letter 'a'. Otherwise, print \"Not found\".\n"
   ]
  },
  {
   "cell_type": "code",
   "execution_count": 22,
   "metadata": {},
   "outputs": [
    {
     "name": "stdout",
     "output_type": "stream",
     "text": [
      "Found\n"
     ]
    }
   ],
   "source": [
    "# -------------------- Solution ----------------------- #\n",
    "# Write your code here:\n",
    "\n",
    "def main():\n",
    "    # Read a string value from the user\n",
    "    user_input = input(\"Enter a string: \")\n",
    "    \n",
    "    # Check if 'a' is in the string (case insensitive)\n",
    "    if 'a' in user_input.lower():\n",
    "        print(\"Found\")\n",
    "    else:\n",
    "        print(\"Not found\")\n",
    "\n",
    "if __name__ == \"__main__\":\n",
    "    main()"
   ]
  },
  {
   "cell_type": "markdown",
   "metadata": {},
   "source": [
    "### Exercise 7: Using a break statement in a loop\n",
    "\n",
    "Complete the following code so that the program finds the first number in the list my_list that is less than 3. The program should print that number and stop checking the rest of the list."
   ]
  },
  {
   "cell_type": "code",
   "execution_count": 24,
   "metadata": {},
   "outputs": [
    {
     "name": "stdout",
     "output_type": "stream",
     "text": [
      "2\n"
     ]
    }
   ],
   "source": [
    "# -------------------- Solution ----------------------- #\n",
    "# Write your code here:\n",
    "\n",
    "my_list = [5, 10, 2, 7, 1, 4]\n",
    "\n",
    "# Iterate through the list to find the first number less than 3\n",
    "for number in my_list:\n",
    "    if number < 3:\n",
    "        print(number)\n",
    "        break  # Stop checking the rest of the list after finding the first match\n",
    "    "
   ]
  },
  {
   "cell_type": "markdown",
   "metadata": {},
   "source": [
    "### Exercise 8: Sum of Even Values Greater than 5\n",
    "\n",
    "Write a program that, given a list, calculates the sum of all even integer values greater than 5. If a value less than or equal to 5 is found in the list, no output should be printed. Test the code with different values in the list."
   ]
  },
  {
   "cell_type": "code",
   "execution_count": 25,
   "metadata": {},
   "outputs": [
    {
     "name": "stdout",
     "output_type": "stream",
     "text": [
      "Testing with list: [8, 12, 6, 10]\n",
      "The sum of all even integers greater than 5 is: 36\n",
      "Testing with list: [7, 11, 3, 9]\n",
      "Testing with list: [4, 2, 6, 8]\n",
      "Testing with list: [10, 15, 20, 25]\n",
      "The sum of all even integers greater than 5 is: 30\n",
      "Testing with list: [2, 4, 6, 8]\n",
      "Testing with list: [10, 3, 8, 12, 2]\n"
     ]
    }
   ],
   "source": [
    "# -------------------- Solution ----------------------- #\n",
    "# Write your code here:\n",
    "\n",
    "def calculate_sum(my_list):\n",
    "    total_sum = 0  # Initialize sum variable\n",
    "    for number in my_list:\n",
    "        if number <= 5:\n",
    "            return  # Exit the function if a value <= 5 is found\n",
    "        if number % 2 == 0:  # Check if the number is even\n",
    "            total_sum += number  # Add to total_sum if even\n",
    "    print(f\"The sum of all even integers greater than 5 is: {total_sum}\")\n",
    "\n",
    "def main():\n",
    "    # Test the function with different lists\n",
    "    test_lists = [\n",
    "        [8, 12, 6, 10],      # All numbers > 5 and even\n",
    "        [7, 11, 3, 9],       # No numbers > 5 and even\n",
    "        [4, 2, 6, 8],        # Contains numbers <= 5\n",
    "        [10, 15, 20, 25],    # All numbers > 5 and even\n",
    "        [2, 4, 6, 8],        # All numbers <= 5\n",
    "        [10, 3, 8, 12, 2]    # Contains a number <= 5\n",
    "    ]\n",
    "    \n",
    "    for lst in test_lists:\n",
    "        print(f\"Testing with list: {lst}\")\n",
    "        calculate_sum(lst)\n",
    "\n",
    "if __name__ == \"__main__\":\n",
    "    main()"
   ]
  },
  {
   "cell_type": "markdown",
   "metadata": {},
   "source": [
    "### Exercise 9: Prime Fibonacci Numbers\n",
    "Write a program that takes in a positive integer number (N) and prints out the first N prime numbers from the Fibonacci sequence on separate lines.\n",
    "\n",
    "Note: A prime number is a number greater than 1 that has no positive divisors other than 1 and itself. To check whether a number is prime, you can use the condition `number % i != 0` for `i` greater than 1 and less than `number`. The Fibonacci sequence starts with 0 and 1, and each subsequent number is the sum of the two preceding ones. \n",
    "\n",
    "Ex: if N = 4, the output is:\n",
    "\n",
    "```\n",
    "2\n",
    "3\n",
    "5\n",
    "13\n",
    "```\n",
    "\n",
    "**Instructions:**\n",
    "\n",
    "1. Read the input value N from the user.\n",
    "2. Generate Fibonacci numbers and check for primality until you find the first N prime numbers.\n",
    "3. Print the prime Fibonacci numbers.\n"
   ]
  },
  {
   "cell_type": "code",
   "execution_count": 27,
   "metadata": {},
   "outputs": [
    {
     "name": "stdout",
     "output_type": "stream",
     "text": [
      "2\n",
      "3\n",
      "5\n",
      "13\n"
     ]
    }
   ],
   "source": [
    "# -------------------- Solution ----------------------- #\n",
    "# Write your code here:\n",
    "\n",
    "def is_prime(num):\n",
    "    \"\"\"Check if a number is prime.\"\"\"\n",
    "    if num <= 1:\n",
    "        return False\n",
    "    for i in range(2, int(num**0.5) + 1):\n",
    "        if num % i == 0:\n",
    "            return False\n",
    "    return True\n",
    "\n",
    "def fibonacci_primes(n):\n",
    "    \"\"\"Generate Fibonacci numbers and find the first n prime Fibonacci numbers.\"\"\"\n",
    "    prime_fib_numbers = []\n",
    "    a, b = 0, 1  # Starting values for Fibonacci sequence\n",
    "\n",
    "    while len(prime_fib_numbers) < n:\n",
    "        # Generate the next Fibonacci number\n",
    "        fib = a + b\n",
    "        a, b = b, fib\n",
    "\n",
    "        # Check if the Fibonacci number is prime\n",
    "        if is_prime(fib):\n",
    "            prime_fib_numbers.append(fib)\n",
    "\n",
    "    return prime_fib_numbers\n",
    "\n",
    "def main():\n",
    "    # Read input value N from the user\n",
    "    N = int(input(\"Enter a positive integer: \"))\n",
    "    \n",
    "    # Get the first N prime Fibonacci numbers\n",
    "    primes = fibonacci_primes(N)\n",
    "\n",
    "    # Print the prime Fibonacci numbers\n",
    "    for prime in primes:\n",
    "        print(prime)\n",
    "\n",
    "if __name__ == \"__main__\":\n",
    "    main()"
   ]
  }
 ],
 "metadata": {
  "kernelspec": {
   "display_name": "Python 3",
   "language": "python",
   "name": "python3"
  },
  "language_info": {
   "codemirror_mode": {
    "name": "ipython",
    "version": 3
   },
   "file_extension": ".py",
   "mimetype": "text/x-python",
   "name": "python",
   "nbconvert_exporter": "python",
   "pygments_lexer": "ipython3",
   "version": "3.12.1"
  }
 },
 "nbformat": 4,
 "nbformat_minor": 2
}
